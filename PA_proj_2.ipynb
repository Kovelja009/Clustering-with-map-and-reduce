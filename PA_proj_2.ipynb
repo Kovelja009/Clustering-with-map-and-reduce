{
  "nbformat": 4,
  "nbformat_minor": 0,
  "metadata": {
    "colab": {
      "provenance": []
    },
    "kernelspec": {
      "name": "python3",
      "display_name": "Python 3"
    },
    "language_info": {
      "name": "python"
    }
  },
  "cells": [
    {
      "cell_type": "code",
      "execution_count": null,
      "metadata": {
        "id": "aXGw_jcGnGZ0"
      },
      "outputs": [],
      "source": [
        "from functools import reduce\n",
        "import pandas as pd\n",
        "\n",
        "df = pd.read_table('ekspresije.tsv',  index_col=0)\n",
        "data = [(cell, gene, value) for cell in df.columns\n",
        "                            for gene, value in df[cell].iteritems()]"
      ]
    },
    {
      "cell_type": "markdown",
      "source": [
        "## Zadatak 1"
      ],
      "metadata": {
        "id": "3xX18EVHu3x9"
      }
    },
    {
      "cell_type": "markdown",
      "source": [
        "1.1"
      ],
      "metadata": {
        "id": "BccJTTebu-B1"
      }
    },
    {
      "cell_type": "code",
      "source": [
        "def mean_val(array, val):\n",
        "  array[1][3] += 1\n",
        "  if val[0] == array[1][0]:\n",
        "    array[1][1] += 1\n",
        "    array[1][2] += val[2]\n",
        "  else:\n",
        "    # sum/cnt\n",
        "    array[0].append((array[1][0],array[1][2]/array[1][1]))\n",
        "    array[1][2] = val[2]\n",
        "    array[1][1] = 1\n",
        "    array[1][0] = val[0]\n",
        "\n",
        "  if array[1][3] == array[1][4]:\n",
        "    array[0].append((array[1][0],array[1][2]/array[1][1]))\n",
        "\n",
        "  return array\n",
        "\n",
        "prev_cell = data[0][0]\n",
        "cnt = 0\n",
        "summ = 0\n",
        "iter = 0\n",
        "mean_vals = reduce(mean_val, data, [[],[prev_cell, cnt, summ, iter, len(data)-1]])[0]"
      ],
      "metadata": {
        "id": "_eyOzxB-u3L-"
      },
      "execution_count": null,
      "outputs": []
    },
    {
      "cell_type": "markdown",
      "source": [
        "1.2"
      ],
      "metadata": {
        "id": "ynHX9JkQ5vdi"
      }
    },
    {
      "cell_type": "code",
      "source": [
        "mean_vals"
      ],
      "metadata": {
        "id": "x_rECEtq_1eN"
      },
      "execution_count": null,
      "outputs": []
    },
    {
      "cell_type": "code",
      "source": [
        "def convert_to_dict(array, val):\n",
        "  array[val[0]] = val[1]\n",
        "  return array\n",
        "\n",
        "mean_vals_dict = reduce(convert_to_dict, mean_vals, {})"
      ],
      "metadata": {
        "id": "bzayDH9R5taK"
      },
      "execution_count": null,
      "outputs": []
    },
    {
      "cell_type": "code",
      "source": [
        "def center(val):\n",
        "  return val[0], val[1], val[2] - mean_vals_dict[val[0]]\n",
        "\n",
        "centered = list(map(center, data))\n",
        "centered"
      ],
      "metadata": {
        "id": "keXxUhlJ9AYP"
      },
      "execution_count": null,
      "outputs": []
    },
    {
      "cell_type": "markdown",
      "source": [
        "1.3"
      ],
      "metadata": {
        "id": "dGvmGGEIAK3E"
      }
    },
    {
      "cell_type": "code",
      "source": [
        "def data_var(array, val):\n",
        "  array[1][3] += 1\n",
        "  if val[0] == array[1][0]:\n",
        "    array[1][1] += 1\n",
        "    array[1][2] += val[2]**2\n",
        "  else:\n",
        "    # sum/cnt\n",
        "    array[0].append((array[1][0],array[1][2]/array[1][1]))\n",
        "    array[1][2] = val[2]**2\n",
        "    array[1][1] = 1\n",
        "    array[1][0] = val[0]\n",
        "\n",
        "  if array[1][3] == array[1][4]:\n",
        "    array[0].append((array[1][0],array[1][2]/array[1][1]))\n",
        "\n",
        "  return array\n",
        "\n",
        "\n",
        "prev_cell = centered[0][0]\n",
        "cnt = 0\n",
        "summ = 0\n",
        "iter = 0\n",
        "variance = reduce(data_var, centered, [[], [prev_cell, cnt, summ, iter, len(data)-1]])[0]\n"
      ],
      "metadata": {
        "id": "BW9nKDV0-vuf"
      },
      "execution_count": null,
      "outputs": []
    },
    {
      "cell_type": "code",
      "source": [
        "variance"
      ],
      "metadata": {
        "id": "3m3UbAR2QuLd"
      },
      "execution_count": null,
      "outputs": []
    },
    {
      "cell_type": "markdown",
      "source": [
        "1.4"
      ],
      "metadata": {
        "id": "185rdlLQDzTq"
      }
    },
    {
      "cell_type": "code",
      "source": [
        "from math import sqrt\n",
        "\n",
        "def _std_dev(val):\n",
        "  return val[0], val[1], sqrt(val[1])\n",
        "\n",
        "std_dev = list(map(_std_dev, variance))"
      ],
      "metadata": {
        "id": "njGcIhMeCeh7"
      },
      "execution_count": null,
      "outputs": []
    },
    {
      "cell_type": "code",
      "source": [
        "std_dev"
      ],
      "metadata": {
        "id": "WASuxOq6Q1xX"
      },
      "execution_count": null,
      "outputs": []
    },
    {
      "cell_type": "markdown",
      "source": [
        "1.5"
      ],
      "metadata": {
        "id": "HWX3sLkDEn6g"
      }
    },
    {
      "cell_type": "code",
      "source": [
        "std_dev_dict = reduce(convert_to_dict, std_dev,{})"
      ],
      "metadata": {
        "id": "s80Caa7LS2ra"
      },
      "execution_count": null,
      "outputs": []
    },
    {
      "cell_type": "code",
      "source": [
        "def standard_scaler(val):\n",
        "  cntrd = val\n",
        "  return cntrd[0], cntrd[1], cntrd[2]/std_dev_dict[cntrd[0]]\n",
        "\n",
        "ss = list(map(standard_scaler, centered))\n",
        "ss"
      ],
      "metadata": {
        "id": "lk_HSv0pEUig"
      },
      "execution_count": null,
      "outputs": []
    },
    {
      "cell_type": "markdown",
      "source": [
        "## Zadatak 2"
      ],
      "metadata": {
        "id": "8Z42-U-JGI2j"
      }
    },
    {
      "cell_type": "markdown",
      "source": [
        "2.1"
      ],
      "metadata": {
        "id": "mA2ZHHZtGOje"
      }
    },
    {
      "cell_type": "code",
      "source": [
        "ss_sorted = sorted(ss, key=lambda x: x[1])"
      ],
      "metadata": {
        "id": "l9K-vNo6F0cm"
      },
      "execution_count": null,
      "outputs": []
    },
    {
      "cell_type": "code",
      "source": [
        "def mean_val_gene(array, val):\n",
        "  array[1][3] += 1\n",
        "  if val[1] == array[1][0]:\n",
        "    array[1][1] += 1\n",
        "    array[1][2] += val[2]\n",
        "  else:\n",
        "    # sum/cnt\n",
        "    array[0].append((array[1][0],array[1][2]/array[1][1]))\n",
        "    array[1][2] = val[2]\n",
        "    array[1][1] = 1\n",
        "    array[1][0] = val[1]\n",
        "\n",
        "  if array[1][3] == array[1][4]:\n",
        "    array[0].append((array[1][0],array[1][2]/array[1][1]))\n",
        "\n",
        "  return array\n",
        "\n",
        "prev_gene = ss_sorted[0][1]\n",
        "cnt = 0\n",
        "summ = 0\n",
        "iter = 0\n",
        "mean_vals_gene = reduce(mean_val_gene, ss_sorted, [[], [prev_gene, cnt, summ, iter, len(ss_sorted)-1]])[0]"
      ],
      "metadata": {
        "id": "me4ZqznAHoX3"
      },
      "execution_count": null,
      "outputs": []
    },
    {
      "cell_type": "code",
      "source": [
        "mean_vals_gene_dict = reduce(convert_to_dict, mean_vals_gene, {})\n",
        "\n",
        "def center_gene(val):\n",
        "  return val[0], val[1], val[2] - mean_vals_gene_dict[val[1]]\n",
        "\n",
        "\n",
        "\n",
        "centered_gene = list(map(center_gene, ss_sorted))"
      ],
      "metadata": {
        "id": "OckOk_ewIpKs"
      },
      "execution_count": null,
      "outputs": []
    },
    {
      "cell_type": "code",
      "source": [
        "def data_var_gene(array, val):\n",
        "  array[1][3] += 1\n",
        "  if val[1] == array[1][0]:\n",
        "    array[1][1] += 1\n",
        "    array[1][2] += val[2]**2\n",
        "  else:\n",
        "    # sum/cnt\n",
        "    array[0].append((array[1][0],array[1][2]/array[1][1]))\n",
        "    array[1][2] = val[2]**2\n",
        "    array[1][1] = 1\n",
        "    array[1][0] = val[1]\n",
        "\n",
        "  if array[1][3] == array[1][4]:\n",
        "    array[0].append((array[1][0],array[1][2]/array[1][1]))\n",
        "\n",
        "  return array\n",
        "\n",
        "\n",
        "prev_gene = centered_gene[0][1]\n",
        "cnt = 0\n",
        "summ = 0\n",
        "iter = 0\n",
        "variance_gene = reduce(data_var_gene, centered_gene, [[], [prev_gene, cnt, summ, iter, len(ss_sorted)-1]])[0]"
      ],
      "metadata": {
        "id": "3-0MXtjQQ-pN"
      },
      "execution_count": null,
      "outputs": []
    },
    {
      "cell_type": "code",
      "source": [
        "len(variance_gene)"
      ],
      "metadata": {
        "id": "uwGgak5zZpgy",
        "outputId": "7e00f9dc-8db1-4366-c4cd-3484f9a30968",
        "colab": {
          "base_uri": "https://localhost:8080/"
        }
      },
      "execution_count": null,
      "outputs": [
        {
          "output_type": "execute_result",
          "data": {
            "text/plain": [
              "5068"
            ]
          },
          "metadata": {},
          "execution_count": 150
        }
      ]
    },
    {
      "cell_type": "markdown",
      "source": [
        "2.2"
      ],
      "metadata": {
        "id": "3eXDls3HU2cd"
      }
    },
    {
      "cell_type": "code",
      "source": [
        "variance_gene_sorted = sorted(variance_gene, key=lambda x: -x[1])\n",
        "\n",
        "def top_500(array, val):\n",
        "  array[1] += 1\n",
        "  if array[1] <= 500:\n",
        "    array[0].append(val)\n",
        "  return array\n",
        "\n",
        "top_var = reduce(top_500, variance_gene_sorted, [[],0])[0]"
      ],
      "metadata": {
        "id": "7I89CTSWUDR7"
      },
      "execution_count": null,
      "outputs": []
    },
    {
      "cell_type": "markdown",
      "source": [
        "2.3"
      ],
      "metadata": {
        "id": "dzvYhoR0Wg5t"
      }
    },
    {
      "cell_type": "code",
      "source": [
        "def convert_to_dict(array, val):\n",
        "  array[val[0]] = 1\n",
        "  return array\n",
        "\n",
        "top_var_dict = reduce(convert_to_dict, top_var, {})"
      ],
      "metadata": {
        "id": "TMVcpcdWa1hm"
      },
      "execution_count": null,
      "outputs": []
    },
    {
      "cell_type": "code",
      "source": [
        "def filtering(array, val):\n",
        "  if val[1] in top_var_dict.keys() and val[2]:\n",
        "      array.append(val)\n",
        "  return array\n",
        "\n",
        "filtered = reduce(filtering, ss, [])"
      ],
      "metadata": {
        "id": "RgS_vDbcWiby"
      },
      "execution_count": null,
      "outputs": []
    },
    {
      "cell_type": "markdown",
      "source": [
        "2.4"
      ],
      "metadata": {
        "id": "JBB_2rvneK7c"
      }
    },
    {
      "cell_type": "code",
      "source": [
        "filtered_sorted = sorted(filtered, key = lambda x: (x[1], x[2]))"
      ],
      "metadata": {
        "id": "0NqU7fUIeRuw"
      },
      "execution_count": null,
      "outputs": []
    },
    {
      "cell_type": "markdown",
      "source": [
        "2.5"
      ],
      "metadata": {
        "id": "XijEkoc1fC6f"
      }
    },
    {
      "cell_type": "code",
      "source": [
        "def _rank_norm(array, val):\n",
        "  if array[1][0] != val[1]:\n",
        "    array[1][2] = 1\n",
        "    array[1][0] = val[1]\n",
        "    array[1][1] = val[2]\n",
        "  else:\n",
        "    if array[1][1] < val[2]:\n",
        "      array[1][2] += 1\n",
        "      array[1][1] = val[2]\n",
        "  array[0].append((val[0], val[1], val[2], array[1][2]))\n",
        "  return array\n",
        "\n",
        "rank = 1\n",
        "prev_gene = filtered_sorted[0][1]\n",
        "prev_val = filtered_sorted[0][2]\n",
        "\n",
        "rank_norm = reduce(_rank_norm, filtered_sorted, [[],[prev_gene, prev_val, rank]])[0]"
      ],
      "metadata": {
        "id": "N4zeXDkBe2lO"
      },
      "execution_count": null,
      "outputs": []
    },
    {
      "cell_type": "markdown",
      "source": [
        "2.6"
      ],
      "metadata": {
        "id": "tmmWX9Z1jKOc"
      }
    },
    {
      "cell_type": "code",
      "source": [
        "def rem(val):\n",
        "  return val[0]\n",
        "\n",
        "top_var_only = list(map(rem, top_var))\n",
        "top_var_only"
      ],
      "metadata": {
        "id": "8c6jx1WSiRwj"
      },
      "execution_count": null,
      "outputs": []
    },
    {
      "cell_type": "markdown",
      "source": [
        "## Zadatak 3"
      ],
      "metadata": {
        "id": "sS_FTx6VVCmy"
      }
    },
    {
      "cell_type": "markdown",
      "source": [
        "3.1"
      ],
      "metadata": {
        "id": "7NoFjnqlVF4t"
      }
    },
    {
      "cell_type": "code",
      "source": [
        "print(rank_norm[:100])"
      ],
      "metadata": {
        "colab": {
          "base_uri": "https://localhost:8080/"
        },
        "id": "YpdI6yR3VIGq",
        "outputId": "2f2a53ee-bd38-436b-a3a0-9b90b0d35402"
      },
      "execution_count": null,
      "outputs": [
        {
          "output_type": "stream",
          "name": "stdout",
          "text": [
            "[('cell_41', 'ABI3', -0.1226363820906653, 1), ('cell_435', 'ABI3', -0.11757919806620276, 2), ('cell_128', 'ABI3', -0.09932321860244774, 3), ('cell_299', 'ABI3', -0.0957385594136825, 4), ('cell_445', 'ABI3', -0.09502720874933167, 5), ('cell_182', 'ABI3', -0.09362122669831953, 6), ('cell_351', 'ABI3', -0.0891840126298507, 7), ('cell_178', 'ABI3', -0.08870071305698553, 8), ('cell_124', 'ABI3', -0.08699088259456551, 9), ('cell_430', 'ABI3', -0.08613074932029732, 10), ('cell_309', 'ABI3', -0.08485396725498215, 11), ('cell_454', 'ABI3', -0.08474512287800359, 12), ('cell_520', 'ABI3', -0.0824985580456294, 13), ('cell_485', 'ABI3', -0.08153410861227389, 14), ('cell_218', 'ABI3', -0.08144715879619316, 15), ('cell_428', 'ABI3', -0.08048456806435635, 16), ('cell_94', 'ABI3', -0.07862232934394722, 17), ('cell_254', 'ABI3', -0.07786525712921458, 18), ('cell_23', 'ABI3', -0.07783642442421548, 19), ('cell_164', 'ABI3', -0.07731731702078894, 20), ('cell_514', 'ABI3', -0.07670635464695873, 21), ('cell_521', 'ABI3', -0.07666920429852757, 22), ('cell_324', 'ABI3', -0.07542241417034769, 23), ('cell_132', 'ABI3', -0.07517534662975996, 24), ('cell_113', 'ABI3', -0.0748438451956739, 25), ('cell_184', 'ABI3', -0.07439030223548476, 26), ('cell_217', 'ABI3', -0.07437268921772436, 27), ('cell_83', 'ABI3', -0.0731498287943117, 28), ('cell_246', 'ABI3', -0.07295501592598765, 29), ('cell_240', 'ABI3', -0.072743385115348, 30), ('cell_365', 'ABI3', -0.07151067298205316, 31), ('cell_190', 'ABI3', -0.07112049856009989, 32), ('cell_260', 'ABI3', -0.07100030359478243, 33), ('cell_152', 'ABI3', -0.07089429470449532, 34), ('cell_144', 'ABI3', -0.0707955611554845, 35), ('cell_171', 'ABI3', -0.07046235466767578, 36), ('cell_462', 'ABI3', -0.07032463871478531, 37), ('cell_505', 'ABI3', -0.07015496235973878, 38), ('cell_508', 'ABI3', -0.0700695118197474, 39), ('cell_328', 'ABI3', -0.06942653108897066, 40), ('cell_312', 'ABI3', -0.06875521538188574, 41), ('cell_100', 'ABI3', -0.06819382968921962, 42), ('cell_30', 'ABI3', -0.06807941197372498, 43), ('cell_165', 'ABI3', -0.06798832228891208, 44), ('cell_50', 'ABI3', -0.067712865733816, 45), ('cell_47', 'ABI3', -0.06764392685001502, 46), ('cell_451', 'ABI3', -0.06744714534082973, 47), ('cell_448', 'ABI3', -0.06727145539084811, 48), ('cell_481', 'ABI3', -0.06726311949360568, 49), ('cell_519', 'ABI3', -0.06687222690459582, 50), ('cell_150', 'ABI3', -0.0662286209758041, 51), ('cell_169', 'ABI3', -0.06607685127769533, 52), ('cell_335', 'ABI3', -0.06598418953968387, 53), ('cell_459', 'ABI3', -0.06591587577115669, 54), ('cell_81', 'ABI3', -0.06581677430419042, 55), ('cell_115', 'ABI3', -0.06511588788124652, 56), ('cell_363', 'ABI3', -0.06480363710656056, 57), ('cell_533', 'ABI3', -0.06444599901288253, 58), ('cell_52', 'ABI3', -0.06395312344744045, 59), ('cell_219', 'ABI3', -0.06381538306562354, 60), ('cell_174', 'ABI3', -0.06351019940086351, 61), ('cell_389', 'ABI3', -0.06279521727848739, 62), ('cell_65', 'ABI3', -0.06255950276835573, 63), ('cell_96', 'ABI3', -0.06208405037887249, 64), ('cell_273', 'ABI3', -0.06205963575582288, 65), ('cell_325', 'ABI3', -0.06158874604012141, 66), ('cell_267', 'ABI3', -0.06154837433723143, 67), ('cell_468', 'ABI3', -0.06153202076322397, 68), ('cell_62', 'ABI3', -0.06144496643751273, 69), ('cell_354', 'ABI3', -0.061437093267720094, 70), ('cell_490', 'ABI3', -0.06142137468096289, 71), ('cell_277', 'ABI3', -0.06093521590047391, 72), ('cell_442', 'ABI3', -0.06092048062618402, 73), ('cell_407', 'ABI3', -0.06051197346382415, 74), ('cell_141', 'ABI3', -0.0604541428077121, 75), ('cell_256', 'ABI3', -0.060419265624326576, 76), ('cell_80', 'ABI3', -0.06038595514072432, 77), ('cell_16', 'ABI3', -0.06025395612004186, 78), ('cell_285', 'ABI3', -0.06024374789674409, 79), ('cell_284', 'ABI3', -0.06022124180831097, 80), ('cell_491', 'ABI3', -0.06016961408635619, 81), ('cell_388', 'ABI3', -0.06015585916156484, 82), ('cell_524', 'ABI3', -0.06009639652706293, 83), ('cell_227', 'ABI3', -0.06008096357254791, 84), ('cell_307', 'ABI3', -0.05971072033572576, 85), ('cell_207', 'ABI3', -0.05942529311193049, 86), ('cell_247', 'ABI3', -0.05923251322574863, 87), ('cell_53', 'ABI3', -0.059103935111468435, 88), ('cell_336', 'ABI3', -0.05903681080584086, 89), ('cell_46', 'ABI3', -0.05884211067029274, 90), ('cell_279', 'ABI3', -0.05824309537722567, 91), ('cell_317', 'ABI3', -0.05818086521104425, 92), ('cell_489', 'ABI3', -0.05774223634770735, 93), ('cell_84', 'ABI3', -0.057716902832705565, 94), ('cell_359', 'ABI3', -0.05769994106518926, 95), ('cell_233', 'ABI3', -0.05757793471161548, 96), ('cell_231', 'ABI3', -0.057573760847064205, 97), ('cell_180', 'ABI3', -0.057553435723666196, 98), ('cell_3', 'ABI3', -0.05754902941618892, 99), ('cell_311', 'ABI3', -0.05754678226292839, 100)]\n"
          ]
        }
      ]
    },
    {
      "cell_type": "code",
      "source": [
        "sorted_cell_gene = sorted(filtered, key = lambda x: (x[0], x[1]))"
      ],
      "metadata": {
        "id": "d1fPjjgnVnFa"
      },
      "execution_count": null,
      "outputs": []
    },
    {
      "cell_type": "code",
      "source": [
        "def group_by_cell(array, val):\n",
        "  array[1][2] += 1\n",
        "  if array[1][0] == val[0]:\n",
        "    array[1][1].append(val[2])\n",
        "  else:\n",
        "    array[0].append((array[1][0], array[1][1]))\n",
        "    array[1][1] = [val[2]]\n",
        "    array[1][0] = val[0]\n",
        "\n",
        "  if array[1][2] == array[1][3]:\n",
        "    array[0].append((array[1][0], array[1][1]))\n",
        "\n",
        "  return array\n",
        "\n",
        "prev_cell = sorted_cell_gene[0][0]\n",
        "curr_arr = []\n",
        "iter = 0\n",
        "grouped = reduce(group_by_cell, sorted_cell_gene, [[],[prev_cell, curr_arr, iter, len(sorted_cell_gene)-1]])[0]"
      ],
      "metadata": {
        "id": "754G6Jt2V_uB"
      },
      "execution_count": null,
      "outputs": []
    },
    {
      "cell_type": "code",
      "source": [
        "grouped"
      ],
      "metadata": {
        "id": "-BhEuV3pT6lO"
      },
      "execution_count": null,
      "outputs": []
    },
    {
      "cell_type": "markdown",
      "source": [
        "3.2"
      ],
      "metadata": {
        "id": "esUrEDfXYx5V"
      }
    },
    {
      "cell_type": "code",
      "source": [
        "import matplotlib.pyplot as plt\n",
        "import seaborn as sn\n",
        "import pandas as pd\n",
        "import numpy as np\n",
        "\n",
        "embedding = pd.read_table('umap.tsv')\n",
        "embedding['cluster'] = 0\n",
        "plt.figure(figsize=(8, 6))\n",
        "plt.scatter(\n",
        "    embedding.umap1,\n",
        "    embedding.umap2,\n",
        "    c=[sn.color_palette()[x] for x in embedding.cluster])\n",
        "\n",
        "\n",
        "k = 10\n",
        "np.random.seed(3)\n",
        "centroids = np.random.uniform(-3, 15, (k, 2))\n",
        "\n",
        "\n",
        "# Da pogledamo rezultat\n",
        "plt.scatter(embedding.umap1,embedding.umap2,c=[sn.color_palette()[x] for x in embedding.cluster])\n",
        "for c in centroids:\n",
        "  plt.scatter(*c, marker='*', s=150)"
      ],
      "metadata": {
        "colab": {
          "base_uri": "https://localhost:8080/",
          "height": 374
        },
        "id": "kjkn0uZHwtFr",
        "outputId": "e62ee895-b26b-46ce-e9f6-70a8078302ef"
      },
      "execution_count": null,
      "outputs": [
        {
          "output_type": "display_data",
          "data": {
            "text/plain": [
              "<Figure size 576x432 with 1 Axes>"
            ],
            "image/png": "[encoded data removed]"
          },
          "metadata": {
            "needs_background": "light"
          }
        }
      ]
    },
    {
      "cell_type": "markdown",
      "source": [
        "Prvi deo"
      ],
      "metadata": {
        "id": "Pv01Bt5bwvUj"
      }
    },
    {
      "cell_type": "code",
      "source": [
        "import sys\n",
        "from functools import reduce\n",
        "# print(embedding)\n",
        "def finding_cluster(val):\n",
        "  miny=sys.maxsize\n",
        "  min_cluster=0\n",
        "  # print(val)\n",
        "  for j in range(len(centroids)):\n",
        "    distance=np.sqrt(((centroids[j,0]-val[0])**2+(centroids[j,1]-val[1])**2))\n",
        "    if miny>abs(distance):\n",
        "      miny=distance\n",
        "      min_cluster=j\n",
        "  return min_cluster\n",
        "\n",
        "matrix = []\n",
        "for i in range(len(embedding)):\n",
        "    matrix.append([embedding.umap1[i],embedding.umap2[i]])\n",
        "\n",
        "\n",
        "cluster_assignments = list(map(finding_cluster, matrix))\n",
        "print(cluster_assignments)\n",
        "\n",
        "# Da pogledamo rezultat\n",
        "for i, c in enumerate(centroids):\n",
        "  plot = plt.scatter(*c, marker='*', s=150)\n",
        "  cluster=[[embedding.umap1[j],embedding.umap2[j]] for j in range(len(embedding)) if cluster_assignments[j] == i]\n",
        "  cluster = np.array(cluster)\n",
        "  if len(cluster)!=0:\n",
        "   plt.scatter(cluster[:, 0], cluster[:, 1], c=plot.get_facecolor())"
      ],
      "metadata": {
        "id": "Ttkv0DY1wtCr"
      },
      "execution_count": null,
      "outputs": []
    },
    {
      "cell_type": "markdown",
      "source": [
        "Drugi deo"
      ],
      "metadata": {
        "id": "kvd_Qiy9wyOw"
      }
    },
    {
      "cell_type": "code",
      "source": [
        "def center_centroids(array,val):\n",
        "  old_cluster=[[embedding.umap1[j],embedding.umap2[j]] for j in range(len(embedding)) if cluster_assignments[j] == array[1][0]]\n",
        "  if len(old_cluster)!=0:\n",
        "    first_position=sum(x[0] for x in old_cluster)/len(old_cluster)\n",
        "    second_position=sum(x[1] for x in old_cluster)/len(old_cluster)\n",
        "    array[0].append([first_position,second_position])\n",
        "  else:\n",
        "    array[0].append([val[0],val[1]])\n",
        "  # print(val[1])\n",
        "  array[1][0]+=1\n",
        "  return array\n",
        "\n",
        "iter=0\n",
        "centroids = np.array(reduce(center_centroids, centroids, [[],[iter]])[0])\n",
        "\n",
        "\n",
        "plt.scatter(embedding.umap1,embedding.umap2,c=[sn.color_palette()[x] for x in embedding.cluster])\n",
        "for c in centroids:\n",
        "  plt.scatter(*c, marker='*', s=150)"
      ],
      "metadata": {
        "id": "6dlfGJcOws_j"
      },
      "execution_count": null,
      "outputs": []
    },
    {
      "cell_type": "markdown",
      "source": [
        "Drugi i treci deo iskombinovano"
      ],
      "metadata": {
        "id": "no455E3Iw1Z4"
      }
    },
    {
      "cell_type": "code",
      "source": [
        "for i in range(250):\n",
        "  cluster_assignments = list(map(finding_cluster, matrix))\n",
        "  centroids = np.array(reduce(center_centroids, centroids, [[],[iter]])[0])\n",
        "  if i+1==1 or i+1==10 or i+1==250:\n",
        "    for i, c in enumerate(centroids):\n",
        "      plot = plt.scatter(*c, marker='*', s=150)\n",
        "      cluster=[[embedding.umap1[j],embedding.umap2[j]] for j in range(len(embedding)) if cluster_assignments[j] == i]\n",
        "      cluster = np.array(cluster)\n",
        "      if len(cluster)!=0:\n",
        "        plt.scatter(cluster[:, 0], cluster[:, 1], c=plot.get_facecolor())\n",
        "    plt.show()\n"
      ],
      "metadata": {
        "colab": {
          "base_uri": "https://localhost:8080/",
          "height": 761
        },
        "id": "YxBx95gSws6_",
        "outputId": "b16659fa-addd-4bf2-ee68-995eb998cf45"
      },
      "execution_count": null,
      "outputs": [
        {
          "output_type": "display_data",
          "data": {
            "text/plain": [
              "<Figure size 432x288 with 1 Axes>"
            ],
            "image/png": "[encoded data removed]"
          },
          "metadata": {
            "needs_background": "light"
          }
        },
        {
          "output_type": "display_data",
          "data": {
            "text/plain": [
              "<Figure size 432x288 with 1 Axes>"
            ],
            "image/png": "[encoded data removed]"
          },
          "metadata": {
            "needs_background": "light"
          }
        },
        {
          "output_type": "display_data",
          "data": {
            "text/plain": [
              "<Figure size 432x288 with 1 Axes>"
            ],
            "image/png": "[encoded data removed]"
          },
          "metadata": {
            "needs_background": "light"
          }
        }
      ]
    }
  ]
}